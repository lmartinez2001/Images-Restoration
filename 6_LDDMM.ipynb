{
 "cells": [
  {
   "cell_type": "markdown",
   "metadata": {},
   "source": [
    "# LDDMM"
   ]
  },
  {
   "cell_type": "markdown",
   "metadata": {},
   "source": [
    "\n",
    "**Notations**\n",
    "\n",
    "$\\Omega=[0,1]^2$  \n",
    "$t_j\\in[0,T]$  \n",
    "$j\\in[0,N]$  \n",
    "timestep $\\delta t$ such that $T = N\\times\\delta t$ with $\\delta t = 1$  \n",
    "$v_{t_j}^k(y):\\Omega\\rightarrow\\mathbb{R}^2$ denotes the velocity field for the *k*th iteration or the gradient algorithm and the *j*th timestep along the discretized flow  \n",
    "$\\phi_{t_j}^k(y):\\Omega\\rightarrow\\Omega$ denotes the mapping for the *k*th iteration or the gradient algorithm and the *j*th timestep along the discretized flow\n",
    "\n",
    "**Discretized energy**\n",
    "\n",
    "$$E(v^k)=\\sum_{j=0}^{N-1}\\|v_{t_j}^k\\|_V^2\\delta t+\\frac{1}{N_1N_2N_3}\\times\\sum_{y\\in\\Omega}|J_T^0(y)-J_T^T(y)|^2$$\n",
    "\n",
    "**Discretized gradient**\n",
    "\n",
    "$$\\nabla_{v_{t_j}^k}E_{t_j}^k(y) = 2v_{t_j}^k(y)-\\frac{2}{\\sigma^2}K\\left(|D\\phi_{t_j,T}^k(y)|DJ_{t_j}^0(y)*\\left(J_{t_j}^0(y)-J_{t_j}^T(y)\\right)\\right)$$"
   ]
  },
  {
   "cell_type": "code",
   "execution_count": 38,
   "metadata": {},
   "outputs": [],
   "source": [
    "import numpy as np\n",
    "import matplotlib.pyplot as plt\n",
    "from scipy.ndimage import convolve\n",
    "\n",
    "plt.rcParams['image.cmap'] = 'gray'\n",
    "\n",
    "def gradient(im):\n",
    "    w, h = im.shape\n",
    "    grad_x = np.zeros((w, h))\n",
    "    grad_x[:,1:-1] = im[:,2:] - im[:,:-2]\n",
    "    grad_x[:,0] = im[:,1] - im[:,0]\n",
    "    grad_x[:,-1] = im[:,-1] - im[:,-2]\n",
    "\n",
    "    grad_y = np.zeros((w, h))\n",
    "    grad_y[1:-1,:] = im[2:,:] - im[:-2,:]\n",
    "    grad_y[0,:] = im[1,:] - im[0,:]\n",
    "    grad_y[-1,:] = im[-1,:] - im[-2,:]\n",
    "\n",
    "    return np.stack([grad_x, grad_y], axis=2).transpose(2, 0, 1)"
   ]
  },
  {
   "cell_type": "code",
   "execution_count": null,
   "metadata": {},
   "outputs": [],
   "source": [
    "class LDDMM():\n",
    "\n",
    "    def __init__(self, I0, I1, K, N, lr):\n",
    "        self.N = N\n",
    "        self.K = K\n",
    "        self.eps = lr\n",
    "        self.row, self.col = I1.shape\n",
    "        \n",
    "        self.v = np.zeros((N,self.row,self.col, 2))\n",
    "        self.dE = np.zeros((N,self.row,self.col, 2))\n",
    "        self.k = 0\n",
    "\n",
    "    def update_velocity(self):\n",
    "        self.v -= self.eps * self.dE\n",
    "\n",
    "    def reparametrize(self):\n",
    "        \n",
    "\n",
    "    def backward_mapping(self):\n",
    "        id_mapping = identity_mapping() \n",
    "\n",
    "        phi_T = np.zeros((self.N, self.row, self.col, 2))\n",
    "        phi_T[self.N-1] = id_mapping\n",
    "        return phi_T\n",
    "\n",
    "    def backward_alpha(self):\n",
    "\n",
    "    def identity_mapping(self):\n",
    "        \"\"\"\n",
    "        shape: (row, col, 2)\n",
    "        \"\"\"\n",
    "        return np.mgrid[:self.row, :self.col].transpose(1,2,0)\n",
    "        \n",
    "    def forward_mapping(self):\n",
    "        for j in range(self.N):\n",
    "            pass\n",
    "\n",
    "    def calculate_J0(self):\n",
    "        for j in range(self.N):\n",
    "            pass\n",
    "\n",
    "    def calculate_J1(self):\n",
    "        for j in range(self.N, -1, -1):\n",
    "            pass\n",
    "\n",
    "    def compute_DJ0_grad(self):\n",
    "        for j in range(self.N):\n",
    "            pass\n",
    "\n",
    "\n",
    "    \n"
   ]
  },
  {
   "cell_type": "code",
   "execution_count": 56,
   "metadata": {},
   "outputs": [
    {
     "data": {
      "text/plain": [
       "(5, 5, 2)"
      ]
     },
     "execution_count": 56,
     "metadata": {},
     "output_type": "execute_result"
    }
   ],
   "source": [
    "\n"
   ]
  }
 ],
 "metadata": {
  "kernelspec": {
   "display_name": "main-venv",
   "language": "python",
   "name": "python3"
  },
  "language_info": {
   "codemirror_mode": {
    "name": "ipython",
    "version": 3
   },
   "file_extension": ".py",
   "mimetype": "text/x-python",
   "name": "python",
   "nbconvert_exporter": "python",
   "pygments_lexer": "ipython3",
   "version": "3.10.2"
  }
 },
 "nbformat": 4,
 "nbformat_minor": 2
}
